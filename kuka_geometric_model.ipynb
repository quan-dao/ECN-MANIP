{
 "cells": [
  {
   "cell_type": "code",
   "execution_count": 38,
   "metadata": {},
   "outputs": [],
   "source": [
    "from sympy import *\n",
    "import numpy as np\n",
    "from IPython.display import Math\n",
    "import matplotlib.pyplot as plt"
   ]
  },
  {
   "cell_type": "markdown",
   "metadata": {},
   "source": [
    "# Modified Denavit Parameters of Kuka Robot"
   ]
  },
  {
   "cell_type": "code",
   "execution_count": 18,
   "metadata": {},
   "outputs": [],
   "source": [
    "alpha = [pi, pi/2, 0, -pi/2, pi/2, -pi/2]\n",
    "# a = [0, symbols('a2'), symbols('a3'), symbols('a4'), 0 ,0]\n",
    "q = [symbols('q1'), symbols('q2'), symbols('q3'), symbols('q4'), symbols('q5'), symbols('q6')]\n",
    "# r = [-symbols('r1'), 0, 0, -symbols('r4'), 0, 0]\n",
    "\n",
    "val_a = [0, 0.26, 0.68, 0.035, 0, 0]\n",
    "val_r = [-0.675, 0, 0, -0.67, 0, 0]\n",
    "\n",
    "a = val_a\n",
    "r = val_r\n",
    "\n",
    "mdh_table = {'joint1' : [alpha[0], a[0], q[0], r[0]],\n",
    "            'joint2' : [alpha[1], a[1], q[1], r[1]],\n",
    "            'joint3' : [alpha[2], a[2], pi/2 + q[2], r[2]],\n",
    "            'joint4' : [alpha[3], a[3], q[3], r[3]],\n",
    "            'joint5' : [alpha[4], a[4], q[4], r[4]],\n",
    "            'joint6' : [alpha[5], a[5], q[5], r[5]]}"
   ]
  },
  {
   "cell_type": "markdown",
   "metadata": {},
   "source": [
    "# Homogeneous transform from Fi-1 to Fi"
   ]
  },
  {
   "cell_type": "code",
   "execution_count": 19,
   "metadata": {},
   "outputs": [],
   "source": [
    "def poseFi(mdh_row):\n",
    "    # unpack input\n",
    "    alpha = mdh_row[0]\n",
    "    a = mdh_row[1]\n",
    "    q = mdh_row[2]\n",
    "    r = mdh_row[3]\n",
    "    \n",
    "    trans_about_x = Matrix([[1, 0, 0, a],\n",
    "                         [0, cos(alpha), -sin(alpha), 0],\n",
    "                         [0, sin(alpha), cos(alpha), 0],\n",
    "                         [0, 0, 0, 1]])\n",
    "    \n",
    "    trans_about_z = Matrix([[cos(q), -sin(q), 0, 0],\n",
    "                         [sin(q), cos(q), 0, 0],\n",
    "                         [0, 0, 1, r],\n",
    "                         [0, 0, 0, 1]])\n",
    "    return trans_about_x * trans_about_z\n",
    "    "
   ]
  },
  {
   "cell_type": "markdown",
   "metadata": {},
   "source": [
    "# Forward Geometric "
   ]
  },
  {
   "cell_type": "code",
   "execution_count": 20,
   "metadata": {},
   "outputs": [
    {
     "name": "stdout",
     "output_type": "stream",
     "text": [
      "Pose of E-E when all joints at neutral position:\n",
      "⎡0   0  1  1.768⎤\n",
      "⎢               ⎥\n",
      "⎢0   1  0    0  ⎥\n",
      "⎢               ⎥\n",
      "⎢-1  0  0  0.64 ⎥\n",
      "⎢               ⎥\n",
      "⎣0   0  0    1  ⎦\n"
     ]
    }
   ],
   "source": [
    "M0_1 = poseFi(mdh_table['joint1'])\n",
    "M1_2 = poseFi(mdh_table['joint2'])\n",
    "M2_3 = poseFi(mdh_table['joint3'])\n",
    "M3_4 = poseFi(mdh_table['joint4'])\n",
    "M4_5 = poseFi(mdh_table['joint5'])\n",
    "M5_6 = poseFi(mdh_table['joint6'])\n",
    "\n",
    "# t6e = symbols('t6e')\n",
    "t6e = 0.158\n",
    "M6_E = poseFi([pi, 0, 0, t6e])\n",
    "\n",
    "# pose of E-E relative to frame 0\n",
    "M0_E = M0_1 * M1_2 * M2_3 * M3_4 * M4_5 * M5_6 * M6_E\n",
    "\n",
    "# coordinate of E-E check\n",
    "val_q = zeros(6)\n",
    "val_M0_E = M0_E.subs(zip(q, val_q))\n",
    "\n",
    "print('Pose of E-E when all joints at neutral position:')\n",
    "pprint(val_M0_E)\n"
   ]
  },
  {
   "cell_type": "markdown",
   "metadata": {},
   "source": [
    "# Inverse Geometric"
   ]
  },
  {
   "cell_type": "code",
   "execution_count": 26,
   "metadata": {},
   "outputs": [],
   "source": [
    "# input of the inverse geometric model \n",
    "des_M0_E = np.array(val_M0_E).astype(np.float64)"
   ]
  },
  {
   "cell_type": "markdown",
   "metadata": {},
   "source": [
    "## Wrist Positioning"
   ]
  },
  {
   "cell_type": "code",
   "execution_count": 27,
   "metadata": {},
   "outputs": [
    {
     "name": "stdout",
     "output_type": "stream",
     "text": [
      "Symbolic expression of wc0\n",
      "⎡ (-- -0.035⋅sin(q₂ + q₃) + 0.68⋅cos(q₂) + 0.67⋅cos(q₂ + q₃) + 0.26)⋅cos(q₁) ⎤\n",
      "⎢                                                                            ⎥\n",
      "⎢(0.035⋅sin(q₂ + q₃) - - -0.68⋅cos(q₂) - - -0.67⋅cos(q₂ + q₃) - 0.26)⋅sin(q₁)⎥\n",
      "⎢                                                                            ⎥\n",
      "⎣  -- -0.68⋅sin(q₂) - - -0.67⋅sin(q₂ + q₃) - - -0.035⋅cos(q₂ + q₃) + 0.675   ⎦\n"
     ]
    }
   ],
   "source": [
    "# Coordinate of Wrist Center relative to frame 0\n",
    "wc0 = des_M0_E[:-1, -1] - t6e * des_M0_E[:-1, 2]\n",
    "\n",
    "# Symbolic expression of wc0 (i.e. last column of M6_0)\n",
    "M6_0 = M0_1 * M1_2 * M2_3 * M3_4 * M4_5 * M5_6\n",
    "pprint('Symbolic expression of wc0')\n",
    "pprint(simplify(M6_0[:-1, -1]))"
   ]
  },
  {
   "cell_type": "markdown",
   "metadata": {},
   "source": [
    "### 1st joint\n",
    "Collect from the first 2 coordinates of WC"
   ]
  },
  {
   "cell_type": "code",
   "execution_count": 29,
   "metadata": {},
   "outputs": [],
   "source": [
    "q1 = np.arctan2(wc0[1], -wc0[0])"
   ]
  },
  {
   "cell_type": "markdown",
   "metadata": {},
   "source": [
    "### 2nd and 3rd joints\n",
    "Substitute value of $q_1$ recently found into equations of the coordinate of $^{0}WC = \\left[^{0}WC_x, ^{0}WC_y, ^{0}WC_z\\right]^T$,\n",
    "\n",
    "$$0.035s_{23} - 0.68c_{2} - 0.67c_{23} = 0.26 +\n",
    "\\left\\{\n",
    "    \\begin{array}{ll}\n",
    "        \\frac{^0WC_y}{s_1}  & ,s_1 \\neq 0 \\\\\n",
    "        \\frac{-^0WC_x}{c_1} & ,\\mbox{otherwise}\n",
    "    \\end{array}\n",
    "\\right. [1]$$\n",
    "\n",
    "$$-0.035c_{23}-0.68s_2 -0.67s_{23} = -0.675 + ^{0}WC_z [2]$$\n",
    "\n",
    "Assign the right hand side of Eq.1, Eq.2 to $\\alpha, \\beta$. Multiply the second equation by $j$, add the result to the first equation, then apply the Euler formula for complex number to get\n",
    "\n",
    "$$(0.67 - j0.035)e^{jq_{23}} - 0.68e^{jq_2} = \\alpha + j\\beta$$\n",
    "\n",
    "where $q_{23} = q_2 + q_3$. Convert the complex numbers which are in real-imaginary form to modulus-argument form\n",
    "\n",
    "$$m_1e^{jarg_1}e^{jq_{23}} + 0.68e^{j(q_2 + \\pi)} = m_2e^{jarg_2} [4]$$\n",
    "\n",
    "Here $m_1 = \\sqrt{0.67^2 + 0.035^2}, arg_1 = arctan2(-0.035, 0.67)$ and $m_2 = \\sqrt{\\alpha^2 + \\beta^2}, arg_2 = arctan2(\\beta, \\alpha)$\n"
   ]
  },
  {
   "cell_type": "code",
   "execution_count": 40,
   "metadata": {},
   "outputs": [],
   "source": [
    "m1 = np.sqrt(0.67**2 + 0.035**2)\n",
    "arg1 = np.arctan2(-0.035, 0.67)\n",
    "\n",
    "if np.sin(q1) == 0:\n",
    "    alpha = 0.26 - wc0[0] / np.cos(q1)\n",
    "else:\n",
    "    alpha = 0.26 + wc0[1] / np.sin(q1)\n",
    "\n",
    "beta = -0.675 + wc0[-1]\n",
    "\n",
    "m2 = np.sqrt(alpha**2 + beta**2)\n",
    "arg2 = np.arctan2(beta, alpha)"
   ]
  },
  {
   "cell_type": "markdown",
   "metadata": {},
   "source": [
    "#### Display Eq.4"
   ]
  },
  {
   "cell_type": "code",
   "execution_count": 84,
   "metadata": {},
   "outputs": [
    {
     "data": {
      "image/png": "[encoded data removed]",
      "text/plain": [
       "<Figure size 640x480 with 1 Axes>"
      ]
     },
     "metadata": {},
     "output_type": "display_data"
    }
   ],
   "source": [
    "# prepare the complex number\n",
    "def prepareComplexNumber(module,arg):\n",
    "    _arr_m = np.linspace(0, module)\n",
    "    _z_x = [_modul * np.cos(arg) for _modul in _arr_m]\n",
    "    _z_y = [_modul * np.sin(arg) for _modul in _arr_m]\n",
    "    return _z_x, _z_y\n",
    "\n",
    "_z1_x, _z1_y = prepareComplexNumber(np.sqrt(3), np.pi/6)\n",
    "_z2_x, _z2_y = prepareComplexNumber(1, 2*np.pi/3)\n",
    "_z3_x, _z3_y = prepareComplexNumber(2, np.pi/3)\n",
    "\n",
    "_tran_z1_x = np.array(_z1_x) + _z2_x[-1]\n",
    "_tran_z1_y = np.array(_z1_y) + _z2_y[-1]\n",
    "\n",
    "# prepare the angles\n",
    "def prepareAngles(module, arg, scale_module, inf_arg=0):\n",
    "    _arr_arg = np.linspace(inf_arg, arg)\n",
    "    _z_arg_x = [scale_module * module * np.cos(ar) for ar in _arr_arg]\n",
    "    _z_arg_y = [scale_module * module * np.sin(ar) for ar in _arr_arg]\n",
    "    \n",
    "    return _z_arg_x, _z_arg_y\n",
    "\n",
    "_z1_arg_x, _z1_arg_y = prepareAngles(np.sqrt(3), np.pi/6, 0.5)\n",
    "_z2_arg_x, _z2_arg_y = prepareAngles(1, 2*np.pi/3, 0.25)\n",
    "_z3_arg_x, _z3_arg_y = prepareAngles(2, np.pi/3, 0.5)\n",
    "\n",
    "gamma_x, gamma_y = prepareAngles(0.75, np.pi/3, 1, np.pi/6)\n",
    "omega_x, omega_y = prepareAngles(0.5, 2*np.pi/3, 1, np.pi/3)\n",
    "\n",
    "\n",
    "plt.figure(num=None, figsize=(8, 6), dpi=80, facecolor='w', edgecolor='k')\n",
    "plt.title('Fig.2 Plot of Eq.4')\n",
    "plt.plot(_z1_x, _z1_y, 'r-', label=r'$m_1 \\angle arg_1+q_{23}$')\n",
    "plt.plot(_z2_x, _z2_y, 'g-', label=r'$0.68 \\angle q_2+\\pi$')\n",
    "plt.plot(_z3_x, _z3_y, 'b-', label=r'$m_2 \\angle arg_2$')\n",
    "plt.plot(_tran_z1_x, _tran_z1_y, 'r--')\n",
    "\n",
    "plt.plot(_z1_arg_x, _z1_arg_y, 'r--')\n",
    "plt.plot(_z2_arg_x, _z2_arg_y, 'g--')\n",
    "plt.plot(_z3_arg_x, _z3_arg_y, 'b--')\n",
    "\n",
    "plt.plot(gamma_x, gamma_y, 'y-', label=r'$\\gamma$')\n",
    "plt.plot(omega_x, omega_y, 'k-', label=r'$\\omega$')\n",
    "\n",
    "# plt.legend([r'$m_1 \\angle arg_1+q_{23}$', r'$0.68 \\angle q_2+\\pi$', r'$m_2 \\angle arg_2$' ])\n",
    "plt.legend()\n",
    "plt.grid()\n",
    "plt.xlim(-1, 3)\n",
    "plt.ylim(-1, 3)\n",
    "plt.xlabel('Real')\n",
    "plt.ylabel('Imaginary')\n",
    "plt.show()"
   ]
  },
  {
   "cell_type": "markdown",
   "metadata": {},
   "source": [
    "$m_1 \\angle arg_1$"
   ]
  },
  {
   "cell_type": "code",
   "execution_count": null,
   "metadata": {},
   "outputs": [],
   "source": []
  }
 ],
 "metadata": {
  "kernelspec": {
   "display_name": "Python 2",
   "language": "python",
   "name": "python2"
  },
  "language_info": {
   "codemirror_mode": {
    "name": "ipython",
    "version": 2
   },
   "file_extension": ".py",
   "mimetype": "text/x-python",
   "name": "python",
   "nbconvert_exporter": "python",
   "pygments_lexer": "ipython2",
   "version": "2.7.12"
  }
 },
 "nbformat": 4,
 "nbformat_minor": 2
}
