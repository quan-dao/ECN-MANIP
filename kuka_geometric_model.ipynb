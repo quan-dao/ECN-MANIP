{
 "cells": [
  {
   "cell_type": "code",
   "execution_count": 8,
   "metadata": {},
   "outputs": [],
   "source": [
    "from sympy import *\n",
    "from IPython.display import Math\n",
    "import matplotlib.pyplot as plt"
   ]
  },
  {
   "cell_type": "markdown",
   "metadata": {},
   "source": [
    "# Modified Denavit Parameters of Kuka Robot"
   ]
  },
  {
   "cell_type": "code",
   "execution_count": 9,
   "metadata": {},
   "outputs": [],
   "source": [
    "alpha = [pi, pi/2, 0, -pi/2, pi/2, -pi/2]\n",
    "\n",
    "q = [symbols('q1'), symbols('q2'), symbols('q3'), symbols('q4'), symbols('q5'), symbols('q6')]\n",
    "\n",
    "a2 = symbols('a2')\n",
    "a3 = symbols('a3')\n",
    "a4 = symbols('a4')\n",
    "r1 = symbols('r1')\n",
    "r4 = symbols('r4')\n",
    "wte = symbols('wte')\n",
    "\n",
    "robot_size_sym = [a2, a3, a4, r1, r4, wte]\n",
    "robot_size_val = [0.26, 0.68, 0.035, 0.675, 0.67, 0.158]\n",
    "\n",
    "mdh_table = {\n",
    "            'joint1' : [pi, 0, q[0], -r1],\n",
    "            'joint2' : [pi/2, a2, q[1], 0],\n",
    "            'joint3' : [0, a3, pi/2 + q[2], 0],\n",
    "            'joint4' : [-pi/2, a4, q[3], -r4],\n",
    "            'joint5' : [pi/2, 0, q[4], 0],\n",
    "            'joint6' : [-pi/2, 0, q[5], 0]}"
   ]
  },
  {
   "cell_type": "markdown",
   "metadata": {},
   "source": [
    "# Homogeneous transform from Fi-1 to Fi"
   ]
  },
  {
   "cell_type": "code",
   "execution_count": 10,
   "metadata": {},
   "outputs": [],
   "source": [
    "def poseFi(mdh_row):\n",
    "    # unpack input\n",
    "    alpha = mdh_row[0]\n",
    "    a = mdh_row[1]\n",
    "    q = mdh_row[2]\n",
    "    r = mdh_row[3]\n",
    "    \n",
    "    trans_about_x = Matrix([[1, 0, 0, a],\n",
    "                         [0, cos(alpha), -sin(alpha), 0],\n",
    "                         [0, sin(alpha), cos(alpha), 0],\n",
    "                         [0, 0, 0, 1]])\n",
    "    \n",
    "    trans_about_z = Matrix([[cos(q), -sin(q), 0, 0],\n",
    "                         [sin(q), cos(q), 0, 0],\n",
    "                         [0, 0, 1, r],\n",
    "                         [0, 0, 0, 1]])\n",
    "    return trans_about_x * trans_about_z\n",
    "    "
   ]
  },
  {
   "cell_type": "markdown",
   "metadata": {},
   "source": [
    "# Forward Geometric "
   ]
  },
  {
   "cell_type": "code",
   "execution_count": 11,
   "metadata": {},
   "outputs": [
    {
     "name": "stdout",
     "output_type": "stream",
     "text": [
      "Pose of E-E when all joints at neutral position:\n",
      "⎡0   0  1  1.768⎤\n",
      "⎢               ⎥\n",
      "⎢0   1  0    0  ⎥\n",
      "⎢               ⎥\n",
      "⎢-1  0  0  0.64 ⎥\n",
      "⎢               ⎥\n",
      "⎣0   0  0    1  ⎦\n"
     ]
    }
   ],
   "source": [
    "M0_1 = poseFi(mdh_table['joint1'])\n",
    "M1_2 = poseFi(mdh_table['joint2'])\n",
    "M2_3 = poseFi(mdh_table['joint3'])\n",
    "M3_4 = poseFi(mdh_table['joint4'])\n",
    "M4_5 = poseFi(mdh_table['joint5'])\n",
    "M5_6 = poseFi(mdh_table['joint6'])\n",
    "\n",
    "Mw_E = poseFi([pi, 0, 0, wte])\n",
    "\n",
    "# pose of E-E relative to frame 0\n",
    "M0_E = M0_1 * M1_2 * M2_3 * M3_4 * M4_5 * M5_6 * Mw_E\n",
    "\n",
    "# coordinate of E-E check\n",
    "val_q = zeros(6)\n",
    "val_M0_E = M0_E.subs(zip(q, val_q))\n",
    "val_M0_E = val_M0_E.subs(zip(robot_size_sym, robot_size_val))\n",
    "\n",
    "print('Pose of E-E when all joints at neutral position:')\n",
    "pprint(val_M0_E)\n"
   ]
  },
  {
   "cell_type": "markdown",
   "metadata": {},
   "source": [
    "# Inverse Geometric"
   ]
  },
  {
   "cell_type": "markdown",
   "metadata": {},
   "source": [
    "## Wrist Positioning"
   ]
  },
  {
   "cell_type": "markdown",
   "metadata": {},
   "source": [
    "Formula for the position of the Wrist in the fixed frame (frame 0)"
   ]
  },
  {
   "cell_type": "code",
   "execution_count": 12,
   "metadata": {},
   "outputs": [
    {
     "name": "stdout",
     "output_type": "stream",
     "text": [
      "⎡(a₂ + a₃⋅cos(q₂) - a₄⋅sin(q₂ + q₃) + r₄⋅cos(q₂ + q₃))⋅cos(q₁) ⎤\n",
      "⎢                                                              ⎥\n",
      "⎢(-a₂ - a₃⋅cos(q₂) + a₄⋅sin(q₂ + q₃) - r₄⋅cos(q₂ + q₃))⋅sin(q₁)⎥\n",
      "⎢                                                              ⎥\n",
      "⎣     -a₃⋅sin(q₂) - a₄⋅cos(q₂ + q₃) + r₁ - r₄⋅sin(q₂ + q₃)     ⎦\n"
     ]
    }
   ],
   "source": [
    "M0_6 = M0_1 * M1_2 * M2_3 * M3_4 * M4_5 * M5_6\n",
    "pprint(simplify(M0_6[:-1, -1]))"
   ]
  },
  {
   "cell_type": "markdown",
   "metadata": {},
   "source": [
    "Assume the numerical value of the Wrist position in the fixed frame is denoted by $\\left[w^{0}_{x}, w^{0}_{y}, w^{0}_{z}\\right]^T$. The system of equations describing the Wrist Positioning problem is \n",
    "$$\n",
    "\\left\\{\n",
    "    \\begin{array}{lll}\n",
    "        \\left(a_2 + a_3c_2 - a_4s_{23} + r_4c_{23}\\right)c_1  & = ^{0}w_{x} & (1) \\\\\n",
    "        \\left(-a_2 - a_3c_2 + a_4s_{23} - r_4c_{23}\\right)s_1 & = ^{0}w_{y} & (2) \\\\\n",
    "        -a_3s_2 - a_4c_{23} + r_1 - r_4s_{23} & = ^{0}w_{z} & (3)\n",
    "    \\end{array}\n",
    "\\right. \n",
    "$$\n",
    "\n",
    "Add the square of (1) and (2),\n",
    "\n",
    "$$\n",
    "\\left(-a_2 - a_3c_2 + a_4s_{23} - r_4c_{23}\\right)^2 = ^{0}w^{2}_{x} + ^{0}w^{2}_{y}\n",
    "$$\n",
    "\n",
    "Take the square root of the equation above \n",
    "$$\n",
    "-a_2 - a_3c_2 + a_4s_{23} - r_4c_{23} = +/- \\left(^{0}w^{2}_{x} + ^{0}w^{2}_{y}\\right)^{\\frac{1}{2}}\n",
    "$$\n",
    "\n",
    "For shake of notation simplicity, asign the right hand side of the equation above to $\\gamma$. This equation together with (3) form a Type 7 trigonometric equation\n",
    "$$\n",
    "\\left\\{\n",
    "    \\begin{array}{ll}\n",
    "        a_4c_{23} + r_4s_{23}  & = -a_3s_2 + r_1 - ^{0}w_{z} \\\\\n",
    "        a_4s_{23} - r_4c_{23} & = -(-a_3)c_2 + a_2 +/- \\gamma \\\\\n",
    "    \\end{array}\n",
    "\\right. \n",
    "$$\n",
    "\n",
    "with $W_1 = a_4, W_2 = r_4, X = 0, Y = -a_3, z_1 = r_1 - ^0w_z,z_2 = a_2 +/- \\gamma$ and $q_i = q_2, q_j = q_2 + q_3$.\n",
    "\n",
    "Let $\\kappa = -a_2 - a_3c_2 + a_4s_{23} - r_4c_{23}$. With a pair of $\\left(q_2,q_3\\right)$, the value of $q_1$ is\n",
    "$$\n",
    "q_1 = atan2(^{0}w_{y}/\\kappa, -^{0}w_{x}/\\kappa)\n",
    "$$\n"
   ]
  },
  {
   "cell_type": "markdown",
   "metadata": {},
   "source": [
    "## Wrist Orienting"
   ]
  },
  {
   "cell_type": "markdown",
   "metadata": {},
   "source": [
    "### Orientation of frame 3 relative to fixed frame (frame 0)\n",
    "Given the desired orientation of the wrist frame (frame 6), the orientation of frame 6 relative to frame 3 is computed by\n",
    "$$ ^{3}R_{6} = ^{3}R_{0} \\times ^{0}R_{6}$$\n",
    "Therefore, to get the orientation of the wrist relative to frame 3, the orientation of frame 3 relative to fixed frame need to be computed first"
   ]
  },
  {
   "cell_type": "code",
   "execution_count": 13,
   "metadata": {},
   "outputs": [
    {
     "name": "stdout",
     "output_type": "stream",
     "text": [
      "Orientationg of frame 3 relative to fixed frame\n",
      "Column 1\n",
      "⎡-sin(q₂ + q₃)⋅cos(q₁)⎤\n",
      "⎢                     ⎥\n",
      "⎢sin(q₁)⋅sin(q₂ + q₃) ⎥\n",
      "⎢                     ⎥\n",
      "⎣    -cos(q₂ + q₃)    ⎦\n",
      "-------\n",
      "Column 2\n",
      "⎡-cos(q₁)⋅cos(q₂ + q₃)⎤\n",
      "⎢                     ⎥\n",
      "⎢sin(q₁)⋅cos(q₂ + q₃) ⎥\n",
      "⎢                     ⎥\n",
      "⎣    sin(q₂ + q₃)     ⎦\n",
      "-------\n",
      "Column 3\n",
      "⎡sin(q₁)⎤\n",
      "⎢       ⎥\n",
      "⎢cos(q₁)⎥\n",
      "⎢       ⎥\n",
      "⎣   0   ⎦\n",
      "-------\n"
     ]
    }
   ],
   "source": [
    "M0_3 = M0_1 * M1_2 * M2_3\n",
    "print('Orientationg of frame 3 relative to fixed frame')\n",
    "print('Column 1')\n",
    "M0_3 = simplify(M0_3)\n",
    "pprint(M0_3[:-1, 0])\n",
    "print('-------')\n",
    "print('Column 2')\n",
    "pprint(M0_3[:-1, 1])\n",
    "print('-------')\n",
    "print('Column 3')\n",
    "pprint(M0_3[:-1, 2])\n",
    "print('-------')"
   ]
  },
  {
   "cell_type": "markdown",
   "metadata": {},
   "source": [
    "With the numreical value of the orientation of the Wrist relative to frame 3, the value of $q_4, q_5$ and $q_6$ are computed by comparing the symbolic expression of $^3R_6$ to its numerical value"
   ]
  },
  {
   "cell_type": "code",
   "execution_count": 14,
   "metadata": {},
   "outputs": [
    {
     "name": "stdout",
     "output_type": "stream",
     "text": [
      "Orientation of Frame 6 relative to Frame 3\n",
      "Column 0\n",
      "⎡-sin(q₄)⋅sin(q₆) + cos(q₄)⋅cos(q₅)⋅cos(q₆)⎤\n",
      "⎢                                          ⎥\n",
      "⎢             sin(q₅)⋅cos(q₆)              ⎥\n",
      "⎢                                          ⎥\n",
      "⎣-sin(q₄)⋅cos(q₅)⋅cos(q₆) - sin(q₆)⋅cos(q₄)⎦\n",
      "Column 1\n",
      "⎡-sin(q₄)⋅cos(q₆) - sin(q₆)⋅cos(q₄)⋅cos(q₅)⎤\n",
      "⎢                                          ⎥\n",
      "⎢             -sin(q₅)⋅sin(q₆)             ⎥\n",
      "⎢                                          ⎥\n",
      "⎣sin(q₄)⋅sin(q₆)⋅cos(q₅) - cos(q₄)⋅cos(q₆) ⎦\n",
      "Column 2\n",
      "⎡-sin(q₅)⋅cos(q₄)⎤\n",
      "⎢                ⎥\n",
      "⎢    cos(q₅)     ⎥\n",
      "⎢                ⎥\n",
      "⎣sin(q₄)⋅sin(q₅) ⎦\n"
     ]
    }
   ],
   "source": [
    "M3_6 = M3_4 * M4_5 * M5_6\n",
    "print('Orientation of Frame 6 relative to Frame 3')\n",
    "print('Column 0')\n",
    "pprint(M3_6[:-1, 0])\n",
    "print('Column 1')\n",
    "pprint(M3_6[:-1, 1])\n",
    "print('Column 2')\n",
    "pprint(M3_6[:-1, 2])"
   ]
  },
  {
   "cell_type": "markdown",
   "metadata": {},
   "source": [
    "According to the matrix above, the value of $q_4, q_5,$ and $q_6$ can be derived using the second row and the third column of $^{3}R_{6}$\n",
    "$$\n",
    "q_5 = +/- acos\\left(^3R_6[1,2]\\right)\n",
    "$$\n",
    "With a value of $q_5$\n",
    "$$\n",
    "q_4 = atan2\\left(^3R_6[2,2]/s_5, -^3R_6[0,2]/s_5\\right)\n",
    "$$\n",
    "$$\n",
    "q_6 = atan2\\left(-^3R_6[1,1]/s_5, ^3R_6[1,0]/s_5\\right)\n",
    "$$"
   ]
  },
  {
   "cell_type": "markdown",
   "metadata": {},
   "source": [
    "## Note on organizing the IG solutions\n",
    "The solution to Wrist Orienting problem shows that a solution to Wrist Positioning problem results in two soluntions to Wrist Orienting problem. So, the total number of solutions to IGM is 2 times the number of solutions to Wrist Positioning problem. \n",
    "\n",
    "Using the relation between the number of solutions to Wrist Positioning and Wrist Orienting, all the solutions to IGM are stored in a matrix of size 6 by 2 times number of solutions to Wrist Position ( = number of solutions to type 7 trigonometric model). \n",
    "\n",
    "A pair of $\\left(q_2, q_3\\right)$ is used to update 2 columns of the IG solutions matrix. These columns are differed by the solutions to Wrist Orienting problem."
   ]
  },
  {
   "cell_type": "code",
   "execution_count": null,
   "metadata": {},
   "outputs": [],
   "source": []
  }
 ],
 "metadata": {
  "kernelspec": {
   "display_name": "Python 2",
   "language": "python",
   "name": "python2"
  },
  "language_info": {
   "codemirror_mode": {
    "name": "ipython",
    "version": 2
   },
   "file_extension": ".py",
   "mimetype": "text/x-python",
   "name": "python",
   "nbconvert_exporter": "python",
   "pygments_lexer": "ipython2",
   "version": "2.7.12"
  }
 },
 "nbformat": 4,
 "nbformat_minor": 2
}
